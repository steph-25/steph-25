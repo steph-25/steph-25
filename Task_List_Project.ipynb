{
  "nbformat": 4,
  "nbformat_minor": 0,
  "metadata": {
    "colab": {
      "provenance": [],
      "authorship_tag": "ABX9TyOWBqs6qJ4z06IJG5s0JK+X",
      "include_colab_link": true
    },
    "kernelspec": {
      "name": "python3",
      "display_name": "Python 3"
    },
    "language_info": {
      "name": "python"
    }
  },
  "cells": [
    {
      "cell_type": "markdown",
      "metadata": {
        "id": "view-in-github",
        "colab_type": "text"
      },
      "source": [
        "<a href=\"https://colab.research.google.com/github/steph-25/steph-25/blob/main/Task_List_Project.ipynb\" target=\"_parent\"><img src=\"https://colab.research.google.com/assets/colab-badge.svg\" alt=\"Open In Colab\"/></a>"
      ]
    },
    {
      "cell_type": "markdown",
      "source": [
        "Python Beginner Project - Task List:"
      ],
      "metadata": {
        "id": "qmgivTxzaRDh"
      }
    },
    {
      "cell_type": "code",
      "execution_count": 5,
      "metadata": {
        "colab": {
          "base_uri": "https://localhost:8080/"
        },
        "id": "FCVXpZzdaMlx",
        "outputId": "851c05de-9efd-481d-e134-900964714325"
      },
      "outputs": [
        {
          "name": "stdout",
          "output_type": "stream",
          "text": [
            "Options:\n",
            "Enter 'add' to add a task\n",
            "Enter 'delete' to delete a task\n",
            "Enter 'view' to view tasks\n",
            "Enter 'exit' to end the program\n",
            ": add\n",
            "Enter a task: clean room \n",
            "Task added: clean room \n",
            "Options:\n",
            "Enter 'add' to add a task\n",
            "Enter 'delete' to delete a task\n",
            "Enter 'view' to view tasks\n",
            "Enter 'exit' to end the program\n",
            ": add\n",
            "Enter a task: wash clothes \n",
            "Task added: wash clothes \n",
            "Options:\n",
            "Enter 'add' to add a task\n",
            "Enter 'delete' to delete a task\n",
            "Enter 'view' to view tasks\n",
            "Enter 'exit' to end the program\n",
            ": view\n",
            "Tasks:\n",
            "1. clean room \n",
            "2. wash clothes \n",
            "Options:\n",
            "Enter 'add' to add a task\n",
            "Enter 'delete' to delete a task\n",
            "Enter 'view' to view tasks\n",
            "Enter 'exit' to end the program\n",
            ": exit\n"
          ]
        }
      ],
      "source": [
        "# define an empty list to store tasks\n",
        "\n",
        "tasks = []\n",
        "\n",
        "def add_task(task):\n",
        "  tasks.append(task)\n",
        "  print(\"Task added:\", task)\n",
        "\n",
        "def delete_task(task):\n",
        "  if task in tasks:\n",
        "    tasks.remove(task)\n",
        "    print(\"Task deleted:\", task)\n",
        "  else:\n",
        "    print(\"Task not found\")\n",
        "\n",
        "def view_tasks():\n",
        "  if not tasks:\n",
        "    print(\"No tasks in the list\")\n",
        "  else:\n",
        "      print(\"Tasks:\")\n",
        "      for index, task in enumerate(tasks, start=1):\n",
        "        print(f\"{index}. {task}\")\n",
        "\n",
        "# While Loop\n",
        "\n",
        "while True:\n",
        "  print(\"Options:\")\n",
        "  print(\"Enter 'add' to add a task\")\n",
        "  print(\"Enter 'delete' to delete a task\")\n",
        "  print(\"Enter 'view' to view tasks\")\n",
        "  print(\"Enter 'exit' to end the program\")\n",
        "\n",
        "\n",
        "# User input\n",
        "\n",
        "\n",
        "  user_input = input(\": \")\n",
        "\n",
        "  if user_input == \"exit\":\n",
        "    break\n",
        "  elif user_input == \"add\":\n",
        "    task = input(\"Enter a task: \")\n",
        "    add_task(task)\n",
        "  elif user_input == \"delete\":\n",
        "    task = input(\"Enter the task to delete: \")\n",
        "    delete_task(task)\n",
        "  elif user_input == \"view\":\n",
        "    view_tasks()\n",
        "  else:\n",
        "    print(\"Invalid input\")"
      ]
    }
  ]
}